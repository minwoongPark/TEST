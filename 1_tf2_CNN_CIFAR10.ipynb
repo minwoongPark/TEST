{
  "cells": [
    {
      "cell_type": "markdown",
      "metadata": {
        "id": "view-in-github",
        "colab_type": "text"
      },
      "source": [
        "<a href=\"https://colab.research.google.com/github/minwoongPark/TEST/blob/main/1_tf2_CNN_CIFAR10.ipynb\" target=\"_parent\"><img src=\"https://colab.research.google.com/assets/colab-badge.svg\" alt=\"Open In Colab\"/></a>"
      ]
    },
    {
      "cell_type": "code",
      "execution_count": null,
      "metadata": {
        "id": "A5ORIT-hMqZJ"
      },
      "outputs": [],
      "source": [
        "# import tensorflow as tf\n",
        " \n",
        "# gpus = tf.config.experimental.list_physical_devices('GPU')\n",
        "# if gpus:\n",
        "#   try:\n",
        "#     # Currently, memory growth needs to be the same across GPUs\n",
        "#     for gpu in gpus:\n",
        "#       tf.config.experimental.set_memory_growth(gpu, True)\n",
        "#     logical_gpus = tf.config.experimental.list_logical_devices('GPU')\n",
        "#     print(len(gpus), \"Physical GPUs,\", len(logical_gpus), \"Logical GPUs\")\n",
        "#   except RuntimeError as e:\n",
        "#     # Memory growth must be set before GPUs have been initialized\n",
        "#     print(e)"
      ]
    },
    {
      "cell_type": "markdown",
      "metadata": {
        "id": "vxaGgIgleRna"
      },
      "source": [
        "# CNN CIFAR10 분류기\n",
        "- CIFAR-10은 사용 가능한 몇 가지 균형 잡힌 데이터 세트 중 하나임\n",
        "- CIFAR-10은 Canadian Institute for Advanced Research에서 만들었고 규모도 상당히 큼\n",
        "- 이 데이터 세트는 데이터가 겹치지 않게 10개 범주에 균일한 분포로 들어 있다는 큰 장점이 있음\n",
        "- 이미지는 해상도가 낮고 상당히 작아서 적은 메모리 시스템만으로도 충분히 훈련할 수 있는 데이터 세트임"
      ]
    },
    {
      "cell_type": "code",
      "execution_count": null,
      "metadata": {
        "ExecuteTime": {
          "end_time": "2022-03-27T04:26:27.729468Z",
          "start_time": "2022-03-27T04:26:25.144421Z"
        },
        "colab": {
          "base_uri": "https://localhost:8080/"
        },
        "id": "Vyq3M_pQ_WZD",
        "outputId": "e86c9237-9a10-4052-af4c-17371f9cee31"
      },
      "outputs": [
        {
          "output_type": "stream",
          "name": "stdout",
          "text": [
            "2.8.2\n"
          ]
        }
      ],
      "source": [
        "import tensorflow as tf\n",
        "import seaborn as sns\n",
        "import numpy as np\n",
        "import pandas as pd\n",
        "import matplotlib.pyplot as plt\n",
        "import matplotlib.image as mpimg\n",
        "import itertools\n",
        "\n",
        "print(tf.__version__)"
      ]
    },
    {
      "cell_type": "markdown",
      "metadata": {
        "id": "gxQBaApQeRoT"
      },
      "source": [
        "## CIFAR10 데이터 세트 로딩\n",
        "- CIFAR10 데이터 세트는 케라스에서 load_data() API를 통해 로딩할 수 있음\n",
        "- 타깃 레이블을 통해 훈련과 테스트 데이트로 구분함\n",
        "- 원본 영상은 0부터 255까지의 RGB 계수로 구성되어 있으므로 데이터를 다운로드하여 1/255로 스케일링하여 0과 1로 변환함"
      ]
    },
    {
      "cell_type": "code",
      "execution_count": null,
      "metadata": {
        "ExecuteTime": {
          "end_time": "2022-03-27T04:27:12.347583Z",
          "start_time": "2022-03-27T04:26:30.833769Z"
        },
        "colab": {
          "base_uri": "https://localhost:8080/"
        },
        "id": "0Pg1wG62_c4J",
        "outputId": "cf39d97d-c584-4b6d-a132-900782ad86aa"
      },
      "outputs": [
        {
          "output_type": "stream",
          "name": "stdout",
          "text": [
            "Downloading data from https://www.cs.toronto.edu/~kriz/cifar-10-python.tar.gz\n",
            "170500096/170498071 [==============================] - 4s 0us/step\n",
            "170508288/170498071 [==============================] - 4s 0us/step\n"
          ]
        }
      ],
      "source": [
        "# Load Data\n",
        "\n",
        "cifar10 = tf.keras.datasets.cifar10\n",
        "(x_train, y_train), (x_test, y_test) = cifar10.load_data()"
      ]
    },
    {
      "cell_type": "markdown",
      "metadata": {
        "id": "zs7cmqH1eRo-"
      },
      "source": [
        "## 데이터 세트 상세\n",
        "- 데이터 세트는 총 60,000개의 샘플과 50k의 훈련 데이터 세트로 구성되며 있으며 나머지는 테스트 데이터 세트임"
      ]
    },
    {
      "cell_type": "code",
      "execution_count": null,
      "metadata": {
        "ExecuteTime": {
          "end_time": "2022-03-27T04:28:47.460732Z",
          "start_time": "2022-03-27T04:28:47.453784Z"
        },
        "colab": {
          "base_uri": "https://localhost:8080/"
        },
        "id": "_M6c6pCEeRo_",
        "outputId": "947ada68-7489-453d-9cdf-f953ac242509"
      },
      "outputs": [
        {
          "output_type": "stream",
          "name": "stdout",
          "text": [
            "x_train shape: (50000, 32, 32, 3)\n",
            "50000 train samples\n",
            "10000 test samples\n"
          ]
        }
      ],
      "source": [
        "print('x_train shape:', x_train.shape)\n",
        "print(x_train.shape[0], 'train samples')\n",
        "print(x_test.shape[0], 'test samples')"
      ]
    },
    {
      "cell_type": "code",
      "execution_count": null,
      "metadata": {
        "ExecuteTime": {
          "end_time": "2022-03-27T04:28:48.872092Z",
          "start_time": "2022-03-27T04:28:48.864114Z"
        },
        "colab": {
          "base_uri": "https://localhost:8080/"
        },
        "id": "tKCoMpafEfs9",
        "outputId": "c0708db0-8852-427b-894e-4405c9ddb535"
      },
      "outputs": [
        {
          "output_type": "execute_result",
          "data": {
            "text/plain": [
              "((50000, 1), (10000, 1))"
            ]
          },
          "metadata": {},
          "execution_count": 5
        }
      ],
      "source": [
        "y_train.shape, y_test.shape"
      ]
    },
    {
      "cell_type": "code",
      "execution_count": null,
      "metadata": {
        "ExecuteTime": {
          "end_time": "2022-03-27T04:28:49.643063Z",
          "start_time": "2022-03-27T04:28:49.627105Z"
        },
        "colab": {
          "base_uri": "https://localhost:8080/"
        },
        "id": "9yy0mQCB_go6",
        "outputId": "7354eec7-2b0b-4220-a6e9-8806fd9bbef6"
      },
      "outputs": [
        {
          "output_type": "execute_result",
          "data": {
            "text/plain": [
              "((50000,), (10000,))"
            ]
          },
          "metadata": {},
          "execution_count": 6
        }
      ],
      "source": [
        "y_train = y_train.flatten()\n",
        "y_test = y_test.flatten()\n",
        "y_train.shape, y_test.shape"
      ]
    },
    {
      "cell_type": "code",
      "execution_count": null,
      "metadata": {
        "ExecuteTime": {
          "end_time": "2022-03-27T04:28:50.419682Z",
          "start_time": "2022-03-27T04:28:50.288329Z"
        },
        "colab": {
          "base_uri": "https://localhost:8080/",
          "height": 672
        },
        "id": "AT0Peq7X_ik5",
        "outputId": "67074ac9-1ff2-4ae0-c9e2-5adc7b464f02"
      },
      "outputs": [
        {
          "output_type": "stream",
          "name": "stderr",
          "text": [
            "/usr/local/lib/python3.7/dist-packages/seaborn/_decorators.py:43: FutureWarning: Pass the following variable as a keyword arg: x. From version 0.12, the only valid positional argument will be `data`, and passing other arguments without an explicit keyword will result in an error or misinterpretation.\n",
            "  FutureWarning\n"
          ]
        },
        {
          "output_type": "execute_result",
          "data": {
            "text/plain": [
              "[[Text(0, 0, 'airplane'),\n",
              "  Text(0, 0, 'automobile'),\n",
              "  Text(0, 0, 'bird'),\n",
              "  Text(0, 0, 'cat'),\n",
              "  Text(0, 0, 'deer'),\n",
              "  Text(0, 0, 'dog'),\n",
              "  Text(0, 0, 'frog'),\n",
              "  Text(0, 0, 'horse'),\n",
              "  Text(0, 0, 'ship'),\n",
              "  Text(0, 0, 'truck')]]"
            ]
          },
          "metadata": {},
          "execution_count": 7
        },
        {
          "output_type": "display_data",
          "data": {
            "text/plain": [
              "<Figure size 720x504 with 1 Axes>"
            ],
            "image/png": "[encoded data removed]"
          },
          "metadata": {
            "needs_background": "light"
          }
        }
      ],
      "source": [
        "classes = ['airplane', 'automobile', 'bird', 'cat', 'deer', 'dog', 'frog', 'horse', 'ship', 'truck']\n",
        "\n",
        "plt.figure(figsize=(10,7))\n",
        "p = sns.countplot(y_train.flatten())\n",
        "p.set(xticklabels=classes)"
      ]
    },
    {
      "cell_type": "code",
      "execution_count": null,
      "metadata": {
        "ExecuteTime": {
          "end_time": "2022-03-27T04:28:51.290638Z",
          "start_time": "2022-03-27T04:28:51.243051Z"
        },
        "colab": {
          "base_uri": "https://localhost:8080/"
        },
        "id": "TGjflvNJ_pat",
        "outputId": "5d03aa40-c7b8-4959-de71-e6422d8ce7de"
      },
      "outputs": [
        {
          "output_type": "execute_result",
          "data": {
            "text/plain": [
              "False"
            ]
          },
          "metadata": {},
          "execution_count": 8
        }
      ],
      "source": [
        "# Check for NaN Values\n",
        "\n",
        "np.isnan(x_train).any()"
      ]
    },
    {
      "cell_type": "code",
      "execution_count": null,
      "metadata": {
        "ExecuteTime": {
          "end_time": "2022-03-27T04:28:51.803373Z",
          "start_time": "2022-03-27T04:28:51.777445Z"
        },
        "colab": {
          "base_uri": "https://localhost:8080/"
        },
        "id": "bJ6zjN_A_sY8",
        "outputId": "ba70f347-7ed1-421a-8696-7ec3bfa5d612"
      },
      "outputs": [
        {
          "output_type": "execute_result",
          "data": {
            "text/plain": [
              "False"
            ]
          },
          "metadata": {},
          "execution_count": 9
        }
      ],
      "source": [
        "# Check for NaN Values\n",
        "\n",
        "np.isnan(x_test).any()"
      ]
    },
    {
      "cell_type": "code",
      "execution_count": null,
      "metadata": {
        "ExecuteTime": {
          "end_time": "2022-03-27T04:28:53.079256Z",
          "start_time": "2022-03-27T04:28:52.751541Z"
        },
        "id": "orSQ5w0m_u-_"
      },
      "outputs": [],
      "source": [
        "# Normalization and Reshaping\n",
        "\n",
        "input_shape = (32, 32, 3)\n",
        "\n",
        "# x_train=x_train.reshape(x_train.shape[0], x_train.shape[1], x_train.shape[2], 3)\n",
        "x_train=x_train / 255.0\n",
        "# x_test = x_test.reshape(x_test.shape[0], x_test.shape[1], x_test.shape[2], 3)\n",
        "x_test=x_test / 255.0"
      ]
    },
    {
      "cell_type": "code",
      "execution_count": null,
      "metadata": {
        "ExecuteTime": {
          "end_time": "2022-03-27T04:28:53.637282Z",
          "start_time": "2022-03-27T04:28:53.632309Z"
        },
        "colab": {
          "base_uri": "https://localhost:8080/"
        },
        "id": "_yvlO205Fm0K",
        "outputId": "aa54499a-3da7-4a53-c1fe-654ee1e37aae"
      },
      "outputs": [
        {
          "output_type": "execute_result",
          "data": {
            "text/plain": [
              "((50000, 32, 32, 3), (10000, 32, 32, 3))"
            ]
          },
          "metadata": {},
          "execution_count": 11
        }
      ],
      "source": [
        "x_train.shape, x_test.shape"
      ]
    },
    {
      "cell_type": "code",
      "execution_count": null,
      "metadata": {
        "ExecuteTime": {
          "end_time": "2022-03-27T04:28:54.695242Z",
          "start_time": "2022-03-27T04:28:54.690289Z"
        },
        "colab": {
          "base_uri": "https://localhost:8080/"
        },
        "id": "4xdn-KH4GTDS",
        "outputId": "2c47a12e-97dc-4c83-e45e-d8a48cda0b24"
      },
      "outputs": [
        {
          "output_type": "execute_result",
          "data": {
            "text/plain": [
              "((50000,), (10000,))"
            ]
          },
          "metadata": {},
          "execution_count": 12
        }
      ],
      "source": [
        "y_train.shape, y_test.shape"
      ]
    },
    {
      "cell_type": "code",
      "execution_count": null,
      "metadata": {
        "ExecuteTime": {
          "end_time": "2022-03-27T04:28:55.970302Z",
          "start_time": "2022-03-27T04:28:55.955528Z"
        },
        "colab": {
          "base_uri": "https://localhost:8080/"
        },
        "id": "wz72GsPj_ybg",
        "outputId": "fd15160f-cbc5-4e5f-f355-bfa895ccee4c"
      },
      "outputs": [
        {
          "output_type": "execute_result",
          "data": {
            "text/plain": [
              "array([0., 0., 0., 0., 0., 0., 1., 0., 0., 0.], dtype=float32)"
            ]
          },
          "metadata": {},
          "execution_count": 13
        }
      ],
      "source": [
        "# Label Encoding (클래스 벡터를 이진 클래스 매트릭스로 변환)\n",
        "\n",
        "NUM_CLASSES = 10\n",
        "# y_train = tf.one_hot(y_train.astype(np.int32), depth=NUM_CLASSES)\n",
        "# y_test = tf.one_hot(y_test.astype(np.int32), depth=NUM_CLASSES)\n",
        "\n",
        "y_train = tf.keras.utils.to_categorical(y_train, NUM_CLASSES)\n",
        "y_test = tf.keras.utils.to_categorical(y_test, NUM_CLASSES)\n",
        "\n",
        "y_train[0]"
      ]
    },
    {
      "cell_type": "code",
      "execution_count": null,
      "metadata": {
        "ExecuteTime": {
          "end_time": "2022-03-27T04:28:56.878426Z",
          "start_time": "2022-03-27T04:28:56.789112Z"
        },
        "colab": {
          "base_uri": "https://localhost:8080/",
          "height": 285
        },
        "id": "j6BP1PdDAN0i",
        "outputId": "0d142fcf-6b19-4a67-d77f-bace44607c0c"
      },
      "outputs": [
        {
          "output_type": "stream",
          "name": "stdout",
          "text": [
            "[0. 0. 0. 0. 0. 0. 0. 0. 1. 0.]\n"
          ]
        },
        {
          "output_type": "display_data",
          "data": {
            "text/plain": [
              "<Figure size 432x288 with 1 Axes>"
            ],
            "image/png": "[encoded data removed]"
          },
          "metadata": {
            "needs_background": "light"
          }
        }
      ],
      "source": [
        "# Visualize Data\n",
        "\n",
        "plt.imshow(x_train[100])\n",
        "print(y_train[100])"
      ]
    },
    {
      "cell_type": "markdown",
      "metadata": {
        "id": "o6ILpLFzeRpO"
      },
      "source": [
        "## CNN 기반의 심층 신경망 모델 구축\n",
        "- ```케라스```로 convolution, 최대 풀링, 배치 정규화, 평탄화, 밀집층이 있는 간단한 CNN 모데을 만듬\n",
        "- 드롭아웃으로 모델이 과대적합되지 않도록 함"
      ]
    },
    {
      "cell_type": "code",
      "execution_count": null,
      "metadata": {
        "ExecuteTime": {
          "end_time": "2022-03-27T04:28:58.129668Z",
          "start_time": "2022-03-27T04:28:58.116703Z"
        },
        "id": "6HYoRI2vAS90"
      },
      "outputs": [],
      "source": [
        "# Define the Model\n",
        "\n",
        "batch_size = 32\n",
        "num_classes = 10\n",
        "epochs = 100  # 50"
      ]
    },
    {
      "cell_type": "code",
      "execution_count": null,
      "metadata": {
        "ExecuteTime": {
          "end_time": "2022-03-27T04:29:00.962776Z",
          "start_time": "2022-03-27T04:28:58.769823Z"
        },
        "id": "zkFXrCsfAb4e"
      },
      "outputs": [],
      "source": [
        "model = tf.keras.models.Sequential([\n",
        "    tf.keras.layers.Conv2D(32, 3, padding='same', input_shape=x_train.shape[1:], activation='relu'),\n",
        "    tf.keras.layers.Conv2D(32, 3, activation='relu'),\n",
        "    tf.keras.layers.MaxPooling2D(),\n",
        "    tf.keras.layers.Dropout(0.25),\n",
        "\n",
        "    tf.keras.layers.Conv2D(64, 3, padding='same', activation='relu'),\n",
        "    tf.keras.layers.Conv2D(64, 3, activation='relu'),\n",
        "    tf.keras.layers.MaxPooling2D(),\n",
        "    tf.keras.layers.Dropout(0.25),\n",
        "\n",
        "    tf.keras.layers.Flatten(),\n",
        "    tf.keras.layers.Dense(512, activation='relu'),\n",
        "    tf.keras.layers.Dropout(0.5),\n",
        "    tf.keras.layers.Dense(num_classes, activation='softmax'),\n",
        "])"
      ]
    },
    {
      "cell_type": "code",
      "execution_count": null,
      "metadata": {
        "ExecuteTime": {
          "end_time": "2022-03-27T04:29:00.978280Z",
          "start_time": "2022-03-27T04:29:00.964287Z"
        },
        "colab": {
          "base_uri": "https://localhost:8080/"
        },
        "id": "8rk-8IPzLYrA",
        "outputId": "ab53740d-1cf1-4526-8133-8e1b56dfc461"
      },
      "outputs": [
        {
          "output_type": "stream",
          "name": "stdout",
          "text": [
            "Model: \"sequential\"\n",
            "_________________________________________________________________\n",
            " Layer (type)                Output Shape              Param #   \n",
            "=================================================================\n",
            " conv2d (Conv2D)             (None, 32, 32, 32)        896       \n",
            "                                                                 \n",
            " conv2d_1 (Conv2D)           (None, 30, 30, 32)        9248      \n",
            "                                                                 \n",
            " max_pooling2d (MaxPooling2D  (None, 15, 15, 32)       0         \n",
            " )                                                               \n",
            "                                                                 \n",
            " dropout (Dropout)           (None, 15, 15, 32)        0         \n",
            "                                                                 \n",
            " conv2d_2 (Conv2D)           (None, 15, 15, 64)        18496     \n",
            "                                                                 \n",
            " conv2d_3 (Conv2D)           (None, 13, 13, 64)        36928     \n",
            "                                                                 \n",
            " max_pooling2d_1 (MaxPooling  (None, 6, 6, 64)         0         \n",
            " 2D)                                                             \n",
            "                                                                 \n",
            " dropout_1 (Dropout)         (None, 6, 6, 64)          0         \n",
            "                                                                 \n",
            " flatten (Flatten)           (None, 2304)              0         \n",
            "                                                                 \n",
            " dense (Dense)               (None, 512)               1180160   \n",
            "                                                                 \n",
            " dropout_2 (Dropout)         (None, 512)               0         \n",
            "                                                                 \n",
            " dense_1 (Dense)             (None, 10)                5130      \n",
            "                                                                 \n",
            "=================================================================\n",
            "Total params: 1,250,858\n",
            "Trainable params: 1,250,858\n",
            "Non-trainable params: 0\n",
            "_________________________________________________________________\n"
          ]
        }
      ],
      "source": [
        "model.summary()"
      ]
    },
    {
      "cell_type": "markdown",
      "metadata": {
        "id": "kmm_BmNDeRpb"
      },
      "source": [
        "## 네트워크 아키텍처 시각화\n",
        "- [SVG(Scalable Vector Graphics)](https://m.post.naver.com/viewer/postView.nhn?volumeNo=27689642&memberNo=43589165)\n",
        "- [Tensorflow2.x model_to_dot()](https://www.tensorflow.org/api_docs/python/tf/keras/utils/model_to_dot)\n",
        "- [Keras plot_model](https://www.tensorflow.org/api_docs/python/tf/keras/utils/plot_model)"
      ]
    },
    {
      "cell_type": "code",
      "execution_count": null,
      "metadata": {
        "ExecuteTime": {
          "end_time": "2022-03-27T04:29:01.986301Z",
          "start_time": "2022-03-27T04:29:01.491516Z"
        },
        "colab": {
          "base_uri": "https://localhost:8080/",
          "height": 1000
        },
        "id": "hjrM6_qTeRpc",
        "outputId": "cf686285-d957-4c3b-c317-28bf85372811"
      },
      "outputs": [
        {
          "output_type": "execute_result",
          "data": {
            "text/plain": [
              "<IPython.core.display.SVG object>"
            ],
            "image/svg+xml": "<svg height=\"1022pt\" viewBox=\"0.00 0.00 425.00 1051.00\" width=\"413pt\" xmlns=\"http://www.w3.org/2000/svg\" xmlns:xlink=\"http://www.w3.org/1999/xlink\">\n<g class=\"graph\" id=\"graph0\" transform=\"scale(.9722 .9722) rotate(0) translate(4 1047)\">\n<title>G</title>\n<polygon fill=\"#ffffff\" points=\"-4,4 -4,-1047 421,-1047 421,4 -4,4\" stroke=\"transparent\"/>\n<!-- 140074756982992 -->\n<g class=\"node\" id=\"node1\">\n<title>140074756982992</title>\n<polygon fill=\"none\" points=\"4.5,-996.5 4.5,-1042.5 412.5,-1042.5 412.5,-996.5 4.5,-996.5\" stroke=\"#000000\"/>\n<text fill=\"#000000\" font-family=\"Times,serif\" font-size=\"14.00\" text-anchor=\"middle\" x=\"53.5\" y=\"-1027.3\">conv2d_input</text>\n<polyline fill=\"none\" points=\"4.5,-1019.5 102.5,-1019.5 \" stroke=\"#000000\"/>\n<text fill=\"#000000\" font-family=\"Times,serif\" font-size=\"14.00\" text-anchor=\"middle\" x=\"53.5\" y=\"-1004.3\">InputLayer</text>\n<polyline fill=\"none\" points=\"102.5,-996.5 102.5,-1042.5 \" stroke=\"#000000\"/>\n<text fill=\"#000000\" font-family=\"Times,serif\" font-size=\"14.00\" text-anchor=\"middle\" x=\"131.5\" y=\"-1027.3\">input:</text>\n<polyline fill=\"none\" points=\"102.5,-1019.5 160.5,-1019.5 \" stroke=\"#000000\"/>\n<text fill=\"#000000\" font-family=\"Times,serif\" font-size=\"14.00\" text-anchor=\"middle\" x=\"131.5\" y=\"-1004.3\">output:</text>\n<polyline fill=\"none\" points=\"160.5,-996.5 160.5,-1042.5 \" stroke=\"#000000\"/>\n<text fill=\"#000000\" font-family=\"Times,serif\" font-size=\"14.00\" text-anchor=\"middle\" x=\"223.5\" y=\"-1015.8\">[(None, 32, 32, 3)]</text>\n<polyline fill=\"none\" points=\"286.5,-996.5 286.5,-1042.5 \" stroke=\"#000000\"/>\n<text fill=\"#000000\" font-family=\"Times,serif\" font-size=\"14.00\" text-anchor=\"middle\" x=\"349.5\" y=\"-1015.8\">[(None, 32, 32, 3)]</text>\n</g>\n<!-- 140074723991440 -->\n<g class=\"node\" id=\"node2\">\n<title>140074723991440</title>\n<polygon fill=\"none\" points=\"25,-913.5 25,-959.5 392,-959.5 392,-913.5 25,-913.5\" stroke=\"#000000\"/>\n<text fill=\"#000000\" font-family=\"Times,serif\" font-size=\"14.00\" text-anchor=\"middle\" x=\"58.5\" y=\"-944.3\">conv2d</text>\n<polyline fill=\"none\" points=\"25,-936.5 92,-936.5 \" stroke=\"#000000\"/>\n<text fill=\"#000000\" font-family=\"Times,serif\" font-size=\"14.00\" text-anchor=\"middle\" x=\"58.5\" y=\"-921.3\">Conv2D</text>\n<polyline fill=\"none\" points=\"92,-913.5 92,-959.5 \" stroke=\"#000000\"/>\n<text fill=\"#000000\" font-family=\"Times,serif\" font-size=\"14.00\" text-anchor=\"middle\" x=\"121\" y=\"-944.3\">input:</text>\n<polyline fill=\"none\" points=\"92,-936.5 150,-936.5 \" stroke=\"#000000\"/>\n<text fill=\"#000000\" font-family=\"Times,serif\" font-size=\"14.00\" text-anchor=\"middle\" x=\"121\" y=\"-921.3\">output:</text>\n<polyline fill=\"none\" points=\"150,-913.5 150,-959.5 \" stroke=\"#000000\"/>\n<text fill=\"#000000\" font-family=\"Times,serif\" font-size=\"14.00\" text-anchor=\"middle\" x=\"208.5\" y=\"-932.8\">(None, 32, 32, 3)</text>\n<polyline fill=\"none\" points=\"267,-913.5 267,-959.5 \" stroke=\"#000000\"/>\n<text fill=\"#000000\" font-family=\"Times,serif\" font-size=\"14.00\" text-anchor=\"middle\" x=\"329.5\" y=\"-932.8\">(None, 32, 32, 32)</text>\n</g>\n<!-- 140074756982992&#45;&gt;140074723991440 -->\n<g class=\"edge\" id=\"edge1\">\n<title>140074756982992-&gt;140074723991440</title>\n<path d=\"M208.5,-996.3799C208.5,-988.1745 208.5,-978.7679 208.5,-969.8786\" fill=\"none\" stroke=\"#000000\"/>\n<polygon fill=\"#000000\" points=\"212.0001,-969.784 208.5,-959.784 205.0001,-969.784 212.0001,-969.784\" stroke=\"#000000\"/>\n</g>\n<!-- 140074718583760 -->\n<g class=\"node\" id=\"node3\">\n<title>140074718583760</title>\n<polygon fill=\"none\" points=\"17,-830.5 17,-876.5 400,-876.5 400,-830.5 17,-830.5\" stroke=\"#000000\"/>\n<text fill=\"#000000\" font-family=\"Times,serif\" font-size=\"14.00\" text-anchor=\"middle\" x=\"54.5\" y=\"-861.3\">conv2d_1</text>\n<polyline fill=\"none\" points=\"17,-853.5 92,-853.5 \" stroke=\"#000000\"/>\n<text fill=\"#000000\" font-family=\"Times,serif\" font-size=\"14.00\" text-anchor=\"middle\" x=\"54.5\" y=\"-838.3\">Conv2D</text>\n<polyline fill=\"none\" points=\"92,-830.5 92,-876.5 \" stroke=\"#000000\"/>\n<text fill=\"#000000\" font-family=\"Times,serif\" font-size=\"14.00\" text-anchor=\"middle\" x=\"121\" y=\"-861.3\">input:</text>\n<polyline fill=\"none\" points=\"92,-853.5 150,-853.5 \" stroke=\"#000000\"/>\n<text fill=\"#000000\" font-family=\"Times,serif\" font-size=\"14.00\" text-anchor=\"middle\" x=\"121\" y=\"-838.3\">output:</text>\n<polyline fill=\"none\" points=\"150,-830.5 150,-876.5 \" stroke=\"#000000\"/>\n<text fill=\"#000000\" font-family=\"Times,serif\" font-size=\"14.00\" text-anchor=\"middle\" x=\"212.5\" y=\"-849.8\">(None, 32, 32, 32)</text>\n<polyline fill=\"none\" points=\"275,-830.5 275,-876.5 \" stroke=\"#000000\"/>\n<text fill=\"#000000\" font-family=\"Times,serif\" font-size=\"14.00\" text-anchor=\"middle\" x=\"337.5\" y=\"-849.8\">(None, 30, 30, 32)</text>\n</g>\n<!-- 140074723991440&#45;&gt;140074718583760 -->\n<g class=\"edge\" id=\"edge2\">\n<title>140074723991440-&gt;140074718583760</title>\n<path d=\"M208.5,-913.3799C208.5,-905.1745 208.5,-895.7679 208.5,-886.8786\" fill=\"none\" stroke=\"#000000\"/>\n<polygon fill=\"#000000\" points=\"212.0001,-886.784 208.5,-876.784 205.0001,-886.784 212.0001,-886.784\" stroke=\"#000000\"/>\n</g>\n<!-- 140074762302224 -->\n<g class=\"node\" id=\"node4\">\n<title>140074762302224</title>\n<polygon fill=\"none\" points=\"0,-747.5 0,-793.5 417,-793.5 417,-747.5 0,-747.5\" stroke=\"#000000\"/>\n<text fill=\"#000000\" font-family=\"Times,serif\" font-size=\"14.00\" text-anchor=\"middle\" x=\"54.5\" y=\"-778.3\">max_pooling2d</text>\n<polyline fill=\"none\" points=\"0,-770.5 109,-770.5 \" stroke=\"#000000\"/>\n<text fill=\"#000000\" font-family=\"Times,serif\" font-size=\"14.00\" text-anchor=\"middle\" x=\"54.5\" y=\"-755.3\">MaxPooling2D</text>\n<polyline fill=\"none\" points=\"109,-747.5 109,-793.5 \" stroke=\"#000000\"/>\n<text fill=\"#000000\" font-family=\"Times,serif\" font-size=\"14.00\" text-anchor=\"middle\" x=\"138\" y=\"-778.3\">input:</text>\n<polyline fill=\"none\" points=\"109,-770.5 167,-770.5 \" stroke=\"#000000\"/>\n<text fill=\"#000000\" font-family=\"Times,serif\" font-size=\"14.00\" text-anchor=\"middle\" x=\"138\" y=\"-755.3\">output:</text>\n<polyline fill=\"none\" points=\"167,-747.5 167,-793.5 \" stroke=\"#000000\"/>\n<text fill=\"#000000\" font-family=\"Times,serif\" font-size=\"14.00\" text-anchor=\"middle\" x=\"229.5\" y=\"-766.8\">(None, 30, 30, 32)</text>\n<polyline fill=\"none\" points=\"292,-747.5 292,-793.5 \" stroke=\"#000000\"/>\n<text fill=\"#000000\" font-family=\"Times,serif\" font-size=\"14.00\" text-anchor=\"middle\" x=\"354.5\" y=\"-766.8\">(None, 15, 15, 32)</text>\n</g>\n<!-- 140074718583760&#45;&gt;140074762302224 -->\n<g class=\"edge\" id=\"edge3\">\n<title>140074718583760-&gt;140074762302224</title>\n<path d=\"M208.5,-830.3799C208.5,-822.1745 208.5,-812.7679 208.5,-803.8786\" fill=\"none\" stroke=\"#000000\"/>\n<polygon fill=\"#000000\" points=\"212.0001,-803.784 208.5,-793.784 205.0001,-803.784 212.0001,-803.784\" stroke=\"#000000\"/>\n</g>\n<!-- 140074709778640 -->\n<g class=\"node\" id=\"node5\">\n<title>140074709778640</title>\n<polygon fill=\"none\" points=\"22,-664.5 22,-710.5 395,-710.5 395,-664.5 22,-664.5\" stroke=\"#000000\"/>\n<text fill=\"#000000\" font-family=\"Times,serif\" font-size=\"14.00\" text-anchor=\"middle\" x=\"54.5\" y=\"-695.3\">dropout</text>\n<polyline fill=\"none\" points=\"22,-687.5 87,-687.5 \" stroke=\"#000000\"/>\n<text fill=\"#000000\" font-family=\"Times,serif\" font-size=\"14.00\" text-anchor=\"middle\" x=\"54.5\" y=\"-672.3\">Dropout</text>\n<polyline fill=\"none\" points=\"87,-664.5 87,-710.5 \" stroke=\"#000000\"/>\n<text fill=\"#000000\" font-family=\"Times,serif\" font-size=\"14.00\" text-anchor=\"middle\" x=\"116\" y=\"-695.3\">input:</text>\n<polyline fill=\"none\" points=\"87,-687.5 145,-687.5 \" stroke=\"#000000\"/>\n<text fill=\"#000000\" font-family=\"Times,serif\" font-size=\"14.00\" text-anchor=\"middle\" x=\"116\" y=\"-672.3\">output:</text>\n<polyline fill=\"none\" points=\"145,-664.5 145,-710.5 \" stroke=\"#000000\"/>\n<text fill=\"#000000\" font-family=\"Times,serif\" font-size=\"14.00\" text-anchor=\"middle\" x=\"207.5\" y=\"-683.8\">(None, 15, 15, 32)</text>\n<polyline fill=\"none\" points=\"270,-664.5 270,-710.5 \" stroke=\"#000000\"/>\n<text fill=\"#000000\" font-family=\"Times,serif\" font-size=\"14.00\" text-anchor=\"middle\" x=\"332.5\" y=\"-683.8\">(None, 15, 15, 32)</text>\n</g>\n<!-- 140074762302224&#45;&gt;140074709778640 -->\n<g class=\"edge\" id=\"edge4\">\n<title>140074762302224-&gt;140074709778640</title>\n<path d=\"M208.5,-747.3799C208.5,-739.1745 208.5,-729.7679 208.5,-720.8786\" fill=\"none\" stroke=\"#000000\"/>\n<polygon fill=\"#000000\" points=\"212.0001,-720.784 208.5,-710.784 205.0001,-720.784 212.0001,-720.784\" stroke=\"#000000\"/>\n</g>\n<!-- 140074718598928 -->\n<g class=\"node\" id=\"node6\">\n<title>140074718598928</title>\n<polygon fill=\"none\" points=\"17,-581.5 17,-627.5 400,-627.5 400,-581.5 17,-581.5\" stroke=\"#000000\"/>\n<text fill=\"#000000\" font-family=\"Times,serif\" font-size=\"14.00\" text-anchor=\"middle\" x=\"54.5\" y=\"-612.3\">conv2d_2</text>\n<polyline fill=\"none\" points=\"17,-604.5 92,-604.5 \" stroke=\"#000000\"/>\n<text fill=\"#000000\" font-family=\"Times,serif\" font-size=\"14.00\" text-anchor=\"middle\" x=\"54.5\" y=\"-589.3\">Conv2D</text>\n<polyline fill=\"none\" points=\"92,-581.5 92,-627.5 \" stroke=\"#000000\"/>\n<text fill=\"#000000\" font-family=\"Times,serif\" font-size=\"14.00\" text-anchor=\"middle\" x=\"121\" y=\"-612.3\">input:</text>\n<polyline fill=\"none\" points=\"92,-604.5 150,-604.5 \" stroke=\"#000000\"/>\n<text fill=\"#000000\" font-family=\"Times,serif\" font-size=\"14.00\" text-anchor=\"middle\" x=\"121\" y=\"-589.3\">output:</text>\n<polyline fill=\"none\" points=\"150,-581.5 150,-627.5 \" stroke=\"#000000\"/>\n<text fill=\"#000000\" font-family=\"Times,serif\" font-size=\"14.00\" text-anchor=\"middle\" x=\"212.5\" y=\"-600.8\">(None, 15, 15, 32)</text>\n<polyline fill=\"none\" points=\"275,-581.5 275,-627.5 \" stroke=\"#000000\"/>\n<text fill=\"#000000\" font-family=\"Times,serif\" font-size=\"14.00\" text-anchor=\"middle\" x=\"337.5\" y=\"-600.8\">(None, 15, 15, 64)</text>\n</g>\n<!-- 140074709778640&#45;&gt;140074718598928 -->\n<g class=\"edge\" id=\"edge5\">\n<title>140074709778640-&gt;140074718598928</title>\n<path d=\"M208.5,-664.3799C208.5,-656.1745 208.5,-646.7679 208.5,-637.8786\" fill=\"none\" stroke=\"#000000\"/>\n<polygon fill=\"#000000\" points=\"212.0001,-637.784 208.5,-627.784 205.0001,-637.784 212.0001,-637.784\" stroke=\"#000000\"/>\n</g>\n<!-- 140074709780240 -->\n<g class=\"node\" id=\"node7\">\n<title>140074709780240</title>\n<polygon fill=\"none\" points=\"17,-498.5 17,-544.5 400,-544.5 400,-498.5 17,-498.5\" stroke=\"#000000\"/>\n<text fill=\"#000000\" font-family=\"Times,serif\" font-size=\"14.00\" text-anchor=\"middle\" x=\"54.5\" y=\"-529.3\">conv2d_3</text>\n<polyline fill=\"none\" points=\"17,-521.5 92,-521.5 \" stroke=\"#000000\"/>\n<text fill=\"#000000\" font-family=\"Times,serif\" font-size=\"14.00\" text-anchor=\"middle\" x=\"54.5\" y=\"-506.3\">Conv2D</text>\n<polyline fill=\"none\" points=\"92,-498.5 92,-544.5 \" stroke=\"#000000\"/>\n<text fill=\"#000000\" font-family=\"Times,serif\" font-size=\"14.00\" text-anchor=\"middle\" x=\"121\" y=\"-529.3\">input:</text>\n<polyline fill=\"none\" points=\"92,-521.5 150,-521.5 \" stroke=\"#000000\"/>\n<text fill=\"#000000\" font-family=\"Times,serif\" font-size=\"14.00\" text-anchor=\"middle\" x=\"121\" y=\"-506.3\">output:</text>\n<polyline fill=\"none\" points=\"150,-498.5 150,-544.5 \" stroke=\"#000000\"/>\n<text fill=\"#000000\" font-family=\"Times,serif\" font-size=\"14.00\" text-anchor=\"middle\" x=\"212.5\" y=\"-517.8\">(None, 15, 15, 64)</text>\n<polyline fill=\"none\" points=\"275,-498.5 275,-544.5 \" stroke=\"#000000\"/>\n<text fill=\"#000000\" font-family=\"Times,serif\" font-size=\"14.00\" text-anchor=\"middle\" x=\"337.5\" y=\"-517.8\">(None, 13, 13, 64)</text>\n</g>\n<!-- 140074718598928&#45;&gt;140074709780240 -->\n<g class=\"edge\" id=\"edge6\">\n<title>140074718598928-&gt;140074709780240</title>\n<path d=\"M208.5,-581.3799C208.5,-573.1745 208.5,-563.7679 208.5,-554.8786\" fill=\"none\" stroke=\"#000000\"/>\n<polygon fill=\"#000000\" points=\"212.0001,-554.784 208.5,-544.784 205.0001,-554.784 212.0001,-554.784\" stroke=\"#000000\"/>\n</g>\n<!-- 140074709781200 -->\n<g class=\"node\" id=\"node8\">\n<title>140074709781200</title>\n<polygon fill=\"none\" points=\"0,-415.5 0,-461.5 417,-461.5 417,-415.5 0,-415.5\" stroke=\"#000000\"/>\n<text fill=\"#000000\" font-family=\"Times,serif\" font-size=\"14.00\" text-anchor=\"middle\" x=\"62\" y=\"-446.3\">max_pooling2d_1</text>\n<polyline fill=\"none\" points=\"0,-438.5 124,-438.5 \" stroke=\"#000000\"/>\n<text fill=\"#000000\" font-family=\"Times,serif\" font-size=\"14.00\" text-anchor=\"middle\" x=\"62\" y=\"-423.3\">MaxPooling2D</text>\n<polyline fill=\"none\" points=\"124,-415.5 124,-461.5 \" stroke=\"#000000\"/>\n<text fill=\"#000000\" font-family=\"Times,serif\" font-size=\"14.00\" text-anchor=\"middle\" x=\"153\" y=\"-446.3\">input:</text>\n<polyline fill=\"none\" points=\"124,-438.5 182,-438.5 \" stroke=\"#000000\"/>\n<text fill=\"#000000\" font-family=\"Times,serif\" font-size=\"14.00\" text-anchor=\"middle\" x=\"153\" y=\"-423.3\">output:</text>\n<polyline fill=\"none\" points=\"182,-415.5 182,-461.5 \" stroke=\"#000000\"/>\n<text fill=\"#000000\" font-family=\"Times,serif\" font-size=\"14.00\" text-anchor=\"middle\" x=\"244.5\" y=\"-434.8\">(None, 13, 13, 64)</text>\n<polyline fill=\"none\" points=\"307,-415.5 307,-461.5 \" stroke=\"#000000\"/>\n<text fill=\"#000000\" font-family=\"Times,serif\" font-size=\"14.00\" text-anchor=\"middle\" x=\"362\" y=\"-434.8\">(None, 6, 6, 64)</text>\n</g>\n<!-- 140074709780240&#45;&gt;140074709781200 -->\n<g class=\"edge\" id=\"edge7\">\n<title>140074709780240-&gt;140074709781200</title>\n<path d=\"M208.5,-498.3799C208.5,-490.1745 208.5,-480.7679 208.5,-471.8786\" fill=\"none\" stroke=\"#000000\"/>\n<polygon fill=\"#000000\" points=\"212.0001,-471.784 208.5,-461.784 205.0001,-471.784 212.0001,-471.784\" stroke=\"#000000\"/>\n</g>\n<!-- 140074709848528 -->\n<g class=\"node\" id=\"node9\">\n<title>140074709848528</title>\n<polygon fill=\"none\" points=\"31,-332.5 31,-378.5 386,-378.5 386,-332.5 31,-332.5\" stroke=\"#000000\"/>\n<text fill=\"#000000\" font-family=\"Times,serif\" font-size=\"14.00\" text-anchor=\"middle\" x=\"69.5\" y=\"-363.3\">dropout_1</text>\n<polyline fill=\"none\" points=\"31,-355.5 108,-355.5 \" stroke=\"#000000\"/>\n<text fill=\"#000000\" font-family=\"Times,serif\" font-size=\"14.00\" text-anchor=\"middle\" x=\"69.5\" y=\"-340.3\">Dropout</text>\n<polyline fill=\"none\" points=\"108,-332.5 108,-378.5 \" stroke=\"#000000\"/>\n<text fill=\"#000000\" font-family=\"Times,serif\" font-size=\"14.00\" text-anchor=\"middle\" x=\"137\" y=\"-363.3\">input:</text>\n<polyline fill=\"none\" points=\"108,-355.5 166,-355.5 \" stroke=\"#000000\"/>\n<text fill=\"#000000\" font-family=\"Times,serif\" font-size=\"14.00\" text-anchor=\"middle\" x=\"137\" y=\"-340.3\">output:</text>\n<polyline fill=\"none\" points=\"166,-332.5 166,-378.5 \" stroke=\"#000000\"/>\n<text fill=\"#000000\" font-family=\"Times,serif\" font-size=\"14.00\" text-anchor=\"middle\" x=\"221\" y=\"-351.8\">(None, 6, 6, 64)</text>\n<polyline fill=\"none\" points=\"276,-332.5 276,-378.5 \" stroke=\"#000000\"/>\n<text fill=\"#000000\" font-family=\"Times,serif\" font-size=\"14.00\" text-anchor=\"middle\" x=\"331\" y=\"-351.8\">(None, 6, 6, 64)</text>\n</g>\n<!-- 140074709781200&#45;&gt;140074709848528 -->\n<g class=\"edge\" id=\"edge8\">\n<title>140074709781200-&gt;140074709848528</title>\n<path d=\"M208.5,-415.3799C208.5,-407.1745 208.5,-397.7679 208.5,-388.8786\" fill=\"none\" stroke=\"#000000\"/>\n<polygon fill=\"#000000\" points=\"212.0001,-388.784 208.5,-378.784 205.0001,-388.784 212.0001,-388.784\" stroke=\"#000000\"/>\n</g>\n<!-- 140074709848592 -->\n<g class=\"node\" id=\"node10\">\n<title>140074709848592</title>\n<polygon fill=\"none\" points=\"49,-249.5 49,-295.5 368,-295.5 368,-249.5 49,-249.5\" stroke=\"#000000\"/>\n<text fill=\"#000000\" font-family=\"Times,serif\" font-size=\"14.00\" text-anchor=\"middle\" x=\"77\" y=\"-280.3\">flatten</text>\n<polyline fill=\"none\" points=\"49,-272.5 105,-272.5 \" stroke=\"#000000\"/>\n<text fill=\"#000000\" font-family=\"Times,serif\" font-size=\"14.00\" text-anchor=\"middle\" x=\"77\" y=\"-257.3\">Flatten</text>\n<polyline fill=\"none\" points=\"105,-249.5 105,-295.5 \" stroke=\"#000000\"/>\n<text fill=\"#000000\" font-family=\"Times,serif\" font-size=\"14.00\" text-anchor=\"middle\" x=\"134\" y=\"-280.3\">input:</text>\n<polyline fill=\"none\" points=\"105,-272.5 163,-272.5 \" stroke=\"#000000\"/>\n<text fill=\"#000000\" font-family=\"Times,serif\" font-size=\"14.00\" text-anchor=\"middle\" x=\"134\" y=\"-257.3\">output:</text>\n<polyline fill=\"none\" points=\"163,-249.5 163,-295.5 \" stroke=\"#000000\"/>\n<text fill=\"#000000\" font-family=\"Times,serif\" font-size=\"14.00\" text-anchor=\"middle\" x=\"218\" y=\"-268.8\">(None, 6, 6, 64)</text>\n<polyline fill=\"none\" points=\"273,-249.5 273,-295.5 \" stroke=\"#000000\"/>\n<text fill=\"#000000\" font-family=\"Times,serif\" font-size=\"14.00\" text-anchor=\"middle\" x=\"320.5\" y=\"-268.8\">(None, 2304)</text>\n</g>\n<!-- 140074709848528&#45;&gt;140074709848592 -->\n<g class=\"edge\" id=\"edge9\">\n<title>140074709848528-&gt;140074709848592</title>\n<path d=\"M208.5,-332.3799C208.5,-324.1745 208.5,-314.7679 208.5,-305.8786\" fill=\"none\" stroke=\"#000000\"/>\n<polygon fill=\"#000000\" points=\"212.0001,-305.784 208.5,-295.784 205.0001,-305.784 212.0001,-305.784\" stroke=\"#000000\"/>\n</g>\n<!-- 140074709848848 -->\n<g class=\"node\" id=\"node11\">\n<title>140074709848848</title>\n<polygon fill=\"none\" points=\"62.5,-166.5 62.5,-212.5 354.5,-212.5 354.5,-166.5 62.5,-166.5\" stroke=\"#000000\"/>\n<text fill=\"#000000\" font-family=\"Times,serif\" font-size=\"14.00\" text-anchor=\"middle\" x=\"88.5\" y=\"-197.3\">dense</text>\n<polyline fill=\"none\" points=\"62.5,-189.5 114.5,-189.5 \" stroke=\"#000000\"/>\n<text fill=\"#000000\" font-family=\"Times,serif\" font-size=\"14.00\" text-anchor=\"middle\" x=\"88.5\" y=\"-174.3\">Dense</text>\n<polyline fill=\"none\" points=\"114.5,-166.5 114.5,-212.5 \" stroke=\"#000000\"/>\n<text fill=\"#000000\" font-family=\"Times,serif\" font-size=\"14.00\" text-anchor=\"middle\" x=\"143.5\" y=\"-197.3\">input:</text>\n<polyline fill=\"none\" points=\"114.5,-189.5 172.5,-189.5 \" stroke=\"#000000\"/>\n<text fill=\"#000000\" font-family=\"Times,serif\" font-size=\"14.00\" text-anchor=\"middle\" x=\"143.5\" y=\"-174.3\">output:</text>\n<polyline fill=\"none\" points=\"172.5,-166.5 172.5,-212.5 \" stroke=\"#000000\"/>\n<text fill=\"#000000\" font-family=\"Times,serif\" font-size=\"14.00\" text-anchor=\"middle\" x=\"220\" y=\"-185.8\">(None, 2304)</text>\n<polyline fill=\"none\" points=\"267.5,-166.5 267.5,-212.5 \" stroke=\"#000000\"/>\n<text fill=\"#000000\" font-family=\"Times,serif\" font-size=\"14.00\" text-anchor=\"middle\" x=\"311\" y=\"-185.8\">(None, 512)</text>\n</g>\n<!-- 140074709848592&#45;&gt;140074709848848 -->\n<g class=\"edge\" id=\"edge10\">\n<title>140074709848592-&gt;140074709848848</title>\n<path d=\"M208.5,-249.3799C208.5,-241.1745 208.5,-231.7679 208.5,-222.8786\" fill=\"none\" stroke=\"#000000\"/>\n<polygon fill=\"#000000\" points=\"212.0001,-222.784 208.5,-212.784 205.0001,-222.784 212.0001,-222.784\" stroke=\"#000000\"/>\n</g>\n<!-- 140074709850128 -->\n<g class=\"node\" id=\"node12\">\n<title>140074709850128</title>\n<polygon fill=\"none\" points=\"54,-83.5 54,-129.5 363,-129.5 363,-83.5 54,-83.5\" stroke=\"#000000\"/>\n<text fill=\"#000000\" font-family=\"Times,serif\" font-size=\"14.00\" text-anchor=\"middle\" x=\"92.5\" y=\"-114.3\">dropout_2</text>\n<polyline fill=\"none\" points=\"54,-106.5 131,-106.5 \" stroke=\"#000000\"/>\n<text fill=\"#000000\" font-family=\"Times,serif\" font-size=\"14.00\" text-anchor=\"middle\" x=\"92.5\" y=\"-91.3\">Dropout</text>\n<polyline fill=\"none\" points=\"131,-83.5 131,-129.5 \" stroke=\"#000000\"/>\n<text fill=\"#000000\" font-family=\"Times,serif\" font-size=\"14.00\" text-anchor=\"middle\" x=\"160\" y=\"-114.3\">input:</text>\n<polyline fill=\"none\" points=\"131,-106.5 189,-106.5 \" stroke=\"#000000\"/>\n<text fill=\"#000000\" font-family=\"Times,serif\" font-size=\"14.00\" text-anchor=\"middle\" x=\"160\" y=\"-91.3\">output:</text>\n<polyline fill=\"none\" points=\"189,-83.5 189,-129.5 \" stroke=\"#000000\"/>\n<text fill=\"#000000\" font-family=\"Times,serif\" font-size=\"14.00\" text-anchor=\"middle\" x=\"232.5\" y=\"-102.8\">(None, 512)</text>\n<polyline fill=\"none\" points=\"276,-83.5 276,-129.5 \" stroke=\"#000000\"/>\n<text fill=\"#000000\" font-family=\"Times,serif\" font-size=\"14.00\" text-anchor=\"middle\" x=\"319.5\" y=\"-102.8\">(None, 512)</text>\n</g>\n<!-- 140074709848848&#45;&gt;140074709850128 -->\n<g class=\"edge\" id=\"edge11\">\n<title>140074709848848-&gt;140074709850128</title>\n<path d=\"M208.5,-166.3799C208.5,-158.1745 208.5,-148.7679 208.5,-139.8786\" fill=\"none\" stroke=\"#000000\"/>\n<polygon fill=\"#000000\" points=\"212.0001,-139.784 208.5,-129.784 205.0001,-139.784 212.0001,-139.784\" stroke=\"#000000\"/>\n</g>\n<!-- 140074709850640 -->\n<g class=\"node\" id=\"node13\">\n<title>140074709850640</title>\n<polygon fill=\"none\" points=\"64,-.5 64,-46.5 353,-46.5 353,-.5 64,-.5\" stroke=\"#000000\"/>\n<text fill=\"#000000\" font-family=\"Times,serif\" font-size=\"14.00\" text-anchor=\"middle\" x=\"96\" y=\"-31.3\">dense_1</text>\n<polyline fill=\"none\" points=\"64,-23.5 128,-23.5 \" stroke=\"#000000\"/>\n<text fill=\"#000000\" font-family=\"Times,serif\" font-size=\"14.00\" text-anchor=\"middle\" x=\"96\" y=\"-8.3\">Dense</text>\n<polyline fill=\"none\" points=\"128,-.5 128,-46.5 \" stroke=\"#000000\"/>\n<text fill=\"#000000\" font-family=\"Times,serif\" font-size=\"14.00\" text-anchor=\"middle\" x=\"157\" y=\"-31.3\">input:</text>\n<polyline fill=\"none\" points=\"128,-23.5 186,-23.5 \" stroke=\"#000000\"/>\n<text fill=\"#000000\" font-family=\"Times,serif\" font-size=\"14.00\" text-anchor=\"middle\" x=\"157\" y=\"-8.3\">output:</text>\n<polyline fill=\"none\" points=\"186,-.5 186,-46.5 \" stroke=\"#000000\"/>\n<text fill=\"#000000\" font-family=\"Times,serif\" font-size=\"14.00\" text-anchor=\"middle\" x=\"229.5\" y=\"-19.8\">(None, 512)</text>\n<polyline fill=\"none\" points=\"273,-.5 273,-46.5 \" stroke=\"#000000\"/>\n<text fill=\"#000000\" font-family=\"Times,serif\" font-size=\"14.00\" text-anchor=\"middle\" x=\"313\" y=\"-19.8\">(None, 10)</text>\n</g>\n<!-- 140074709850128&#45;&gt;140074709850640 -->\n<g class=\"edge\" id=\"edge12\">\n<title>140074709850128-&gt;140074709850640</title>\n<path d=\"M208.5,-83.3799C208.5,-75.1745 208.5,-65.7679 208.5,-56.8786\" fill=\"none\" stroke=\"#000000\"/>\n<polygon fill=\"#000000\" points=\"212.0001,-56.784 208.5,-46.784 205.0001,-56.784 212.0001,-56.784\" stroke=\"#000000\"/>\n</g>\n</g>\n</svg>"
          },
          "metadata": {},
          "execution_count": 18
        }
      ],
      "source": [
        "from IPython.display import SVG\n",
        "from tensorflow.keras.utils import model_to_dot\n",
        "\n",
        "SVG(model_to_dot(model, show_shapes=True, show_layer_names=True, \n",
        "                 rankdir='TB', expand_nested=True, dpi=70).create(prog='dot', format='svg'))"
      ]
    },
    {
      "cell_type": "markdown",
      "metadata": {
        "id": "viJhPoSueRpz"
      },
      "source": [
        "## 모델 컴파일"
      ]
    },
    {
      "cell_type": "code",
      "execution_count": null,
      "metadata": {
        "ExecuteTime": {
          "end_time": "2022-03-27T04:29:03.362773Z",
          "start_time": "2022-03-27T04:29:03.340007Z"
        },
        "id": "ULXdRS67AePq"
      },
      "outputs": [],
      "source": [
        "model.compile(optimizer=tf.keras.optimizers.RMSprop(learning_rate=0.0001, decay=1e-06),\n",
        "            loss='categorical_crossentropy', metrics=['acc'])\n",
        "\n"
      ]
    },
    {
      "cell_type": "code",
      "execution_count": null,
      "metadata": {
        "ExecuteTime": {
          "end_time": "2022-03-27T04:29:48.783780Z",
          "start_time": "2022-03-27T04:29:48.727675Z"
        },
        "colab": {
          "base_uri": "https://localhost:8080/"
        },
        "id": "-1IT7FweQVYf",
        "outputId": "f5b2c318-fb66-4c2e-b8a1-b15257580ef9",
        "scrolled": true
      },
      "outputs": [
        {
          "output_type": "stream",
          "name": "stdout",
          "text": [
            "\u001b[0m\u001b[01;34mmodel\u001b[0m/  \u001b[01;34msample_data\u001b[0m/\n"
          ]
        }
      ],
      "source": [
        "!mkdir model\n",
        "%ls"
      ]
    },
    {
      "cell_type": "code",
      "execution_count": null,
      "metadata": {
        "ExecuteTime": {
          "end_time": "2022-03-27T04:29:58.455662Z",
          "start_time": "2022-03-27T04:29:58.443694Z"
        },
        "id": "GPTKsbm8QUhM"
      },
      "outputs": [],
      "source": [
        "from tensorflow.keras.callbacks import EarlyStopping, ModelCheckpoint\n",
        "\n",
        "KFOLD_WEIGHT_PATH=r'./model/cnn_cifar10_weights_{epoch:02d}_{val_acc:.2f}.hdf5'\n",
        "early_stop_callback = [EarlyStopping(monitor='val_loss', \n",
        "                                     patience=3, verbose=0),\n",
        "                       ModelCheckpoint(KFOLD_WEIGHT_PATH, \n",
        "                                       monitor='val_loss', \n",
        "                                       save_best_only=True, \n",
        "                                       verbose=0),\n",
        "                      ]"
      ]
    },
    {
      "cell_type": "markdown",
      "metadata": {
        "id": "GCtZta3VeRqQ"
      },
      "source": [
        "## 분류기 훈련"
      ]
    },
    {
      "cell_type": "code",
      "execution_count": null,
      "metadata": {
        "ExecuteTime": {
          "end_time": "2022-03-27T04:33:24.560530Z",
          "start_time": "2022-03-27T04:30:01.616193Z"
        },
        "colab": {
          "base_uri": "https://localhost:8080/"
        },
        "id": "fv1NzFw9MwDS",
        "outputId": "59b82b14-6a5a-427b-f247-d716510afde0"
      },
      "outputs": [
        {
          "output_type": "stream",
          "name": "stdout",
          "text": [
            "Epoch 1/100\n",
            "1407/1407 [==============================] - 24s 7ms/step - loss: 1.8447 - acc: 0.3250 - val_loss: 1.5523 - val_acc: 0.4394\n",
            "Epoch 2/100\n",
            "1407/1407 [==============================] - 10s 7ms/step - loss: 1.5189 - acc: 0.4470 - val_loss: 1.3803 - val_acc: 0.4990\n",
            "Epoch 3/100\n",
            "1407/1407 [==============================] - 10s 7ms/step - loss: 1.3862 - acc: 0.5007 - val_loss: 1.3645 - val_acc: 0.5060\n",
            "Epoch 4/100\n",
            "1407/1407 [==============================] - 10s 7ms/step - loss: 1.2894 - acc: 0.5385 - val_loss: 1.2135 - val_acc: 0.5688\n",
            "Epoch 5/100\n",
            "1407/1407 [==============================] - 10s 7ms/step - loss: 1.2144 - acc: 0.5686 - val_loss: 1.1786 - val_acc: 0.5926\n",
            "Epoch 6/100\n",
            "1407/1407 [==============================] - 10s 7ms/step - loss: 1.1477 - acc: 0.5928 - val_loss: 1.0531 - val_acc: 0.6340\n",
            "Epoch 7/100\n",
            "1407/1407 [==============================] - 10s 7ms/step - loss: 1.0845 - acc: 0.6171 - val_loss: 1.0003 - val_acc: 0.6554\n",
            "Epoch 8/100\n",
            "1407/1407 [==============================] - 10s 7ms/step - loss: 1.0343 - acc: 0.6371 - val_loss: 0.9191 - val_acc: 0.6784\n",
            "Epoch 9/100\n",
            "1407/1407 [==============================] - 11s 8ms/step - loss: 0.9872 - acc: 0.6515 - val_loss: 0.9123 - val_acc: 0.6778\n",
            "Epoch 10/100\n",
            "1407/1407 [==============================] - 10s 7ms/step - loss: 0.9514 - acc: 0.6674 - val_loss: 0.8810 - val_acc: 0.6924\n",
            "Epoch 11/100\n",
            "1407/1407 [==============================] - 10s 7ms/step - loss: 0.9198 - acc: 0.6784 - val_loss: 0.9273 - val_acc: 0.6844\n",
            "Epoch 12/100\n",
            "1407/1407 [==============================] - 10s 7ms/step - loss: 0.8888 - acc: 0.6870 - val_loss: 0.8344 - val_acc: 0.7070\n",
            "Epoch 13/100\n",
            "1407/1407 [==============================] - 10s 7ms/step - loss: 0.8626 - acc: 0.7006 - val_loss: 0.8744 - val_acc: 0.7030\n",
            "Epoch 14/100\n",
            "1407/1407 [==============================] - 10s 7ms/step - loss: 0.8419 - acc: 0.7076 - val_loss: 0.7950 - val_acc: 0.7274\n",
            "Epoch 15/100\n",
            "1407/1407 [==============================] - 10s 7ms/step - loss: 0.8232 - acc: 0.7134 - val_loss: 0.8795 - val_acc: 0.7086\n",
            "Epoch 16/100\n",
            "1407/1407 [==============================] - 10s 7ms/step - loss: 0.8076 - acc: 0.7194 - val_loss: 0.7769 - val_acc: 0.7348\n",
            "Epoch 17/100\n",
            "1407/1407 [==============================] - 10s 7ms/step - loss: 0.7883 - acc: 0.7264 - val_loss: 0.7682 - val_acc: 0.7372\n",
            "Epoch 18/100\n",
            "1407/1407 [==============================] - 10s 7ms/step - loss: 0.7737 - acc: 0.7327 - val_loss: 0.7330 - val_acc: 0.7510\n",
            "Epoch 19/100\n",
            "1407/1407 [==============================] - 10s 7ms/step - loss: 0.7641 - acc: 0.7345 - val_loss: 0.7224 - val_acc: 0.7546\n",
            "Epoch 20/100\n",
            "1407/1407 [==============================] - 10s 7ms/step - loss: 0.7507 - acc: 0.7389 - val_loss: 0.7508 - val_acc: 0.7456\n",
            "Epoch 21/100\n",
            "1407/1407 [==============================] - 10s 7ms/step - loss: 0.7460 - acc: 0.7418 - val_loss: 0.7065 - val_acc: 0.7568\n",
            "Epoch 22/100\n",
            "1407/1407 [==============================] - 10s 7ms/step - loss: 0.7334 - acc: 0.7465 - val_loss: 0.7776 - val_acc: 0.7352\n",
            "Epoch 23/100\n",
            "1407/1407 [==============================] - 10s 7ms/step - loss: 0.7257 - acc: 0.7504 - val_loss: 0.7116 - val_acc: 0.7546\n",
            "Epoch 24/100\n",
            "1407/1407 [==============================] - 10s 7ms/step - loss: 0.7175 - acc: 0.7528 - val_loss: 0.6976 - val_acc: 0.7640\n",
            "Epoch 25/100\n",
            "1407/1407 [==============================] - 10s 7ms/step - loss: 0.7123 - acc: 0.7543 - val_loss: 0.6758 - val_acc: 0.7754\n",
            "Epoch 26/100\n",
            "1407/1407 [==============================] - 10s 7ms/step - loss: 0.7043 - acc: 0.7584 - val_loss: 0.7421 - val_acc: 0.7528\n",
            "Epoch 27/100\n",
            "1407/1407 [==============================] - 10s 7ms/step - loss: 0.7000 - acc: 0.7609 - val_loss: 0.6790 - val_acc: 0.7710\n",
            "Epoch 28/100\n",
            "1407/1407 [==============================] - 10s 7ms/step - loss: 0.6930 - acc: 0.7596 - val_loss: 0.7833 - val_acc: 0.7486\n",
            "CPU times: user 4min 53s, sys: 39.3 s, total: 5min 32s\n",
            "Wall time: 4min 50s\n"
          ]
        }
      ],
      "source": [
        "%%time\n",
        "# colab : 약 5분 30초 소요됨, win : 약 분 소요됨\n",
        "\n",
        "history = model.fit(x_train, y_train,\n",
        "                    validation_split=0.1,\n",
        "                    batch_size=batch_size,\n",
        "                    epochs=epochs,\n",
        "                    verbose=1,\n",
        "                    callbacks=early_stop_callback)"
      ]
    },
    {
      "cell_type": "code",
      "execution_count": null,
      "metadata": {
        "ExecuteTime": {
          "end_time": "2022-03-27T04:34:19.969395Z",
          "start_time": "2022-03-27T04:34:19.891512Z"
        },
        "colab": {
          "base_uri": "https://localhost:8080/"
        },
        "id": "a3xYpEluQgna",
        "outputId": "cf250119-fb4d-4e46-e7fc-95a9fbb432dc"
      },
      "outputs": [
        {
          "output_type": "stream",
          "name": "stdout",
          "text": [
            "cnn_cifar10.h5                    cnn_cifar10_weights_10_0.69.hdf5\n",
            "cnn_cifar10_weights_01_0.44.hdf5  cnn_cifar10_weights_12_0.71.hdf5\n",
            "cnn_cifar10_weights_02_0.50.hdf5  cnn_cifar10_weights_14_0.73.hdf5\n",
            "cnn_cifar10_weights_03_0.51.hdf5  cnn_cifar10_weights_16_0.73.hdf5\n",
            "cnn_cifar10_weights_04_0.57.hdf5  cnn_cifar10_weights_17_0.74.hdf5\n",
            "cnn_cifar10_weights_05_0.59.hdf5  cnn_cifar10_weights_18_0.75.hdf5\n",
            "cnn_cifar10_weights_06_0.63.hdf5  cnn_cifar10_weights_19_0.75.hdf5\n",
            "cnn_cifar10_weights_07_0.66.hdf5  cnn_cifar10_weights_21_0.76.hdf5\n",
            "cnn_cifar10_weights_08_0.68.hdf5  cnn_cifar10_weights_24_0.76.hdf5\n",
            "cnn_cifar10_weights_09_0.68.hdf5  cnn_cifar10_weights_25_0.78.hdf5\n"
          ]
        }
      ],
      "source": [
        "model.save(filepath=r'./model/cnn_cifar10.h5')\n",
        "%ls model"
      ]
    },
    {
      "cell_type": "code",
      "execution_count": null,
      "metadata": {
        "ExecuteTime": {
          "end_time": "2022-03-27T04:34:23.309795Z",
          "start_time": "2022-03-27T04:34:23.153552Z"
        },
        "colab": {
          "base_uri": "https://localhost:8080/",
          "height": 265
        },
        "id": "gdhNL1guArhd",
        "outputId": "d56b4037-4cff-47cf-d6fc-6055f4896dbf"
      },
      "outputs": [
        {
          "output_type": "display_data",
          "data": {
            "text/plain": [
              "<Figure size 432x288 with 2 Axes>"
            ],
            "image/png": "[encoded data removed]"
          },
          "metadata": {
            "needs_background": "light"
          }
        }
      ],
      "source": [
        "# Loss and Accuracy Curves\n",
        "\n",
        "fig, ax = plt.subplots(2,1)\n",
        "ax[0].plot(history.history['loss'], color='b', label=\"Training Loss\")\n",
        "legend = ax[0].legend(loc='best', shadow=True)\n",
        "\n",
        "ax[1].plot(history.history['acc'], color='b', label=\"Training Accuracy\")\n",
        "legend = ax[1].legend(loc='best', shadow=True)"
      ]
    },
    {
      "cell_type": "markdown",
      "metadata": {
        "id": "zV1IoeEleRqb"
      },
      "source": [
        "## 모델 성능 예측과 테스트"
      ]
    },
    {
      "cell_type": "code",
      "execution_count": null,
      "metadata": {
        "ExecuteTime": {
          "end_time": "2022-03-27T04:34:27.220761Z",
          "start_time": "2022-03-27T04:34:25.938410Z"
        },
        "colab": {
          "base_uri": "https://localhost:8080/"
        },
        "id": "HN9aWpL4Nzo8",
        "outputId": "fb49561b-86f4-4d6d-9008-b64989da99b6"
      },
      "outputs": [
        {
          "output_type": "stream",
          "name": "stdout",
          "text": [
            "313/313 [==============================] - 1s 4ms/step - loss: 0.8129 - acc: 0.7356\n"
          ]
        },
        {
          "output_type": "execute_result",
          "data": {
            "text/plain": [
              "(0.8128819465637207, 0.7355999946594238)"
            ]
          },
          "metadata": {},
          "execution_count": 25
        }
      ],
      "source": [
        "test_loss, test_acc = model.evaluate(x_test, y_test, verbose=1)\n",
        "\n",
        "test_loss, test_acc "
      ]
    },
    {
      "cell_type": "code",
      "execution_count": null,
      "metadata": {
        "ExecuteTime": {
          "end_time": "2022-03-27T04:34:28.396904Z",
          "start_time": "2022-03-27T04:34:28.184079Z"
        },
        "colab": {
          "base_uri": "https://localhost:8080/",
          "height": 621
        },
        "id": "h5jMfZAXOF2e",
        "outputId": "aadba6cd-be3b-4a17-e435-3746557f11d4"
      },
      "outputs": [
        {
          "output_type": "display_data",
          "data": {
            "text/plain": [
              "<Figure size 1080x720 with 2 Axes>"
            ],
            "image/png": "[encoded data removed]"
          },
          "metadata": {
            "needs_background": "light"
          }
        }
      ],
      "source": [
        "\n",
        "plt.figure(1,figsize=(15,10))  \n",
        "\n",
        "# summarize history for accuracy  \n",
        "\n",
        "plt.subplot(121)  \n",
        "plt.plot(history.history['acc'])  \n",
        "plt.plot(history.history['val_acc'])  \n",
        "plt.title('model accuracy')  \n",
        "plt.ylabel('accuracy')  \n",
        "plt.xlabel('epoch')  \n",
        "plt.legend(['train', 'test'], loc='upper left')  \n",
        "\n",
        "# summarize history for loss  \n",
        "\n",
        "plt.subplot(122)  \n",
        "plt.plot(history.history['loss'])  \n",
        "plt.plot(history.history['val_loss'])  \n",
        "plt.title('model loss')  \n",
        "plt.ylabel('loss')  \n",
        "plt.xlabel('epoch')  \n",
        "plt.legend(['train', 'test'], loc='upper left')  \n",
        "plt.show()  "
      ]
    },
    {
      "cell_type": "code",
      "execution_count": null,
      "metadata": {
        "ExecuteTime": {
          "end_time": "2022-03-27T04:34:30.442606Z",
          "start_time": "2022-03-27T04:34:29.473112Z"
        },
        "colab": {
          "base_uri": "https://localhost:8080/",
          "height": 911
        },
        "id": "NJFkZdG3A21E",
        "outputId": "c5bf8454-f458-4315-d6ac-4d65feb090ad"
      },
      "outputs": [
        {
          "output_type": "execute_result",
          "data": {
            "text/plain": [
              "[[Text(0, 0.5, 'airplane'),\n",
              "  Text(0, 1.5, 'automobile'),\n",
              "  Text(0, 2.5, 'bird'),\n",
              "  Text(0, 3.5, 'cat'),\n",
              "  Text(0, 4.5, 'deer'),\n",
              "  Text(0, 5.5, 'dog'),\n",
              "  Text(0, 6.5, 'frog'),\n",
              "  Text(0, 7.5, 'horse'),\n",
              "  Text(0, 8.5, 'ship'),\n",
              "  Text(0, 9.5, 'truck')],\n",
              " [Text(0.5, 0, 'airplane'),\n",
              "  Text(1.5, 0, 'automobile'),\n",
              "  Text(2.5, 0, 'bird'),\n",
              "  Text(3.5, 0, 'cat'),\n",
              "  Text(4.5, 0, 'deer'),\n",
              "  Text(5.5, 0, 'dog'),\n",
              "  Text(6.5, 0, 'frog'),\n",
              "  Text(7.5, 0, 'horse'),\n",
              "  Text(8.5, 0, 'ship'),\n",
              "  Text(9.5, 0, 'truck')]]"
            ]
          },
          "metadata": {},
          "execution_count": 27
        },
        {
          "output_type": "display_data",
          "data": {
            "text/plain": [
              "<Figure size 864x648 with 2 Axes>"
            ],
            "image/png": "[encoded data removed]"
          },
          "metadata": {
            "needs_background": "light"
          }
        }
      ],
      "source": [
        "# Confusion Matrix\n",
        "\n",
        "# Predict the values from the validation dataset\n",
        "y_pred = model.predict(x_test)\n",
        "# Convert predictions classes to one hot vectors \n",
        "y_pred_classes = np.argmax(y_pred,axis = 1) \n",
        "# Convert validation observations to one hot vectors\n",
        "y_true = np.argmax(y_test,axis = 1)\n",
        "# compute the confusion matrix\n",
        "confusion_mtx = tf.math.confusion_matrix(y_true, y_pred_classes)\n",
        "\n",
        "plt.figure(figsize=(12, 9))\n",
        "c = sns.heatmap(confusion_mtx, annot=True, fmt='g')\n",
        "c.set(xticklabels=classes, yticklabels=classes)"
      ]
    },
    {
      "cell_type": "code",
      "execution_count": null,
      "metadata": {
        "id": "2jpFZKWFL3OT"
      },
      "outputs": [],
      "source": [
        ""
      ]
    }
  ],
  "metadata": {
    "accelerator": "GPU",
    "anaconda-cloud": {},
    "colab": {
      "collapsed_sections": [],
      "name": "1.tf2_CNN_CIFAR10.ipynb",
      "provenance": [],
      "include_colab_link": true
    },
    "kernelspec": {
      "display_name": "Python 3 (ipykernel)",
      "language": "python",
      "name": "python3"
    },
    "language_info": {
      "codemirror_mode": {
        "name": "ipython",
        "version": 3
      },
      "file_extension": ".py",
      "mimetype": "text/x-python",
      "name": "python",
      "nbconvert_exporter": "python",
      "pygments_lexer": "ipython3",
      "version": "3.7.11"
    },
    "gpuClass": "standard"
  },
  "nbformat": 4,
  "nbformat_minor": 0
}