{
  "nbformat": 4,
  "nbformat_minor": 0,
  "metadata": {
    "colab": {
      "name": "ClassifyMnist_Training.ipynb",
      "provenance": [],
      "authorship_tag": "ABX9TyNS1Grv8e3a0jDFV5aPi8Qd",
      "include_colab_link": true
    },
    "kernelspec": {
      "name": "python3",
      "display_name": "Python 3"
    },
    "language_info": {
      "name": "python"
    }
  },
  "cells": [
    {
      "cell_type": "markdown",
      "metadata": {
        "id": "view-in-github",
        "colab_type": "text"
      },
      "source": [
        "<a href=\"https://colab.research.google.com/github/minwoongPark/TEST/blob/main/ClassifyMnist_Training.ipynb\" target=\"_parent\"><img src=\"https://colab.research.google.com/assets/colab-badge.svg\" alt=\"Open In Colab\"/></a>"
      ]
    },
    {
      "cell_type": "markdown",
      "metadata": {
        "id": "mr2FmvoSC80E"
      },
      "source": [
        "## MNIST image 분류 [출처](https://github.com/wikibook/dl-vision)\n",
        "> mnist download "
      ]
    },
    {
      "cell_type": "code",
      "metadata": {
        "colab": {
          "base_uri": "https://localhost:8080/",
          "height": 81
        },
        "id": "TAE4etXJCrDu",
        "outputId": "2603662c-7f61-4ffc-bd01-0d55e1a1815c"
      },
      "source": [
        "import tensorflow as tf\n",
        "import numpy as np\n",
        "import matplotlib.pyplot as plt\n",
        "from google.colab.patches import cv2_imshow\n",
        "import cv2\n",
        "np.random.seed(42)\n",
        "\n",
        "# 훈련 및 테스트 데이터 로딩\n",
        "(x_train, y_train) , (x_test, y_test) = tf.keras.datasets.mnist.load_data()\n",
        "cv2_imshow(x_train[0]) #Colab opencv imshow \n",
        "y_train[0]\n",
        "num_classes = 10 # 클래스는 0부터 9까지의 숫자\n",
        "\n",
        "# 이미지를 칼럼 벡터(NN의 입력으로)로 변환 \n",
        "x_train, x_test = x_train.reshape(-1, 28*28), x_test.reshape(-1, 28*28)\n",
        "# 레이블을 원-핫 벡터(NN의 결과)로 변환(예를 들어 레이블 4를 벡터 '[0,0,0,0,1,0,0,0,0,0]' 로 변환)\n",
        "y_train = np.eye(num_classes)[y_train]\n",
        "print(f'x_train.shape : {x_train.shape}')\n",
        "print(f'y_train.shape : {y_train.shape}')"
      ],
      "execution_count": 34,
      "outputs": [
        {
          "output_type": "display_data",
          "data": {
            "image/png": "[encoded data removed]",
            "text/plain": [
              "<PIL.Image.Image image mode=L size=28x28 at 0x7F43F7C40C50>"
            ]
          },
          "metadata": {
            "tags": []
          }
        },
        {
          "output_type": "stream",
          "text": [
            "x_train.shape : (60000, 784)\n",
            "y_train.shape : (60000, 10)\n"
          ],
          "name": "stdout"
        }
      ]
    },
    {
      "cell_type": "markdown",
      "metadata": {
        "id": "bcDlpGqqGc67"
      },
      "source": [
        "> Class FullyConnectedLayer"
      ]
    },
    {
      "cell_type": "code",
      "metadata": {
        "id": "N7pVPQXiGjpr"
      },
      "source": [
        "class FullyConnectedLayer(object) :\n",
        "  \"\"\" A simple fully-connected NN layer.\n",
        "  Args :\n",
        "    num_imputs (int) : input vector size / input data count\n",
        "    layer_size (int) : output vector size / neurun count\n",
        "    activation_fn (callable) : 이 계층에 사용될 활성화 함수  \n",
        "  Attributes : \n",
        "    W (ndarray) : 입력값에 대한 가중치\n",
        "    b (ndarray) : 가중합에 더해질 편향값 \n",
        "    size (int) : 계층의 크기 / 뉴런의 개수 \n",
        "    activation_fn(callable):뉴런에 적용할 활성화 함수\n",
        "  \"\"\"\n",
        "\n",
        "  def __init__(self, num_inputs, layer_size, activation_fn, d_activation_fn) :\n",
        "    super().__init__()\n",
        "    #임의로 매개변수를 초기화(여기서는 정규 분포를 사용)\n",
        "    self.W = np.random.standard_normal((num_inputs, layer_size))\n",
        "    self.b = np.random.standard_normal(layer_size)\n",
        "    self.size = layer_size\n",
        "    self.activation_fn = activation_fn \n",
        "    self.d_activation_fn = d_activation_fn\n",
        "    self.x, self.y, self.dL_dW, self.dL_db = 0, 0, 0, 0 #스토리지 속성\n",
        "\n",
        "  def forward(self, x):\n",
        "    \"\"\" 계층을 통해 입력 신호를 전달\"\"\"\n",
        "    z = np.dot(x, self.W) + self.b\n",
        "    self.y = self.activation_fn(z)\n",
        "    self.x = x #역전파를 위해 값을 저장\n",
        "    return self.y\n",
        "\n",
        "  def backward(self, dL_dy):\n",
        "    \"\"\" 손실을 역전파 \"\"\"\n",
        "    dy_dz = self.d_activation_fn(self.y)\n",
        "    dL_dz = (dL_dy * dy_dz) # dL/dz = dL/dy * dy/dz = l'_{k+1} * f'\n",
        "    dz_dw = self.x.T\n",
        "    dz_dx = self.W.T\n",
        "    dz_db = np.ones(dL_dy.shape[0]) # dz/db = \"ones\"-vector \n",
        "    # 계층 매개변수 dL w.r.t.를 계산하고 저장:\n",
        "    self.dL_dW = np.dot(dz_dw, dL_dz)\n",
        "    self.dL_db = np.dot(dz_db, dL_dz)\n",
        "    return dL_dx\n",
        "\n",
        "  def optimize(self, epsilon):\n",
        "    \"\"\"계층의 매개변수 w.r.t. 미분값을 최적화.\"\"\"\n",
        "    self.W -= epsilon * self.dL_dW\n",
        "    self.b -= epsilon * self.dL_db \n",
        "\n"
      ],
      "execution_count": 35,
      "outputs": []
    },
    {
      "cell_type": "markdown",
      "metadata": {
        "id": "35NKqsmKNz2i"
      },
      "source": [
        "> 네트워크 구현하기 \n"
      ]
    },
    {
      "cell_type": "code",
      "metadata": {
        "id": "0lRK9O10N2jV"
      },
      "source": [
        "import numpy as np\n",
        "\n",
        "def sigmoid (x): # x의 요소에 시그모이드 함수를 적용\n",
        "  return 1 / (1 + np.exp(-x)) #y \n",
        "\n",
        "def derivated_sigmoid(y) : #시그모이드 함수 \n",
        "  return y * (1-y) \n",
        "\n",
        "def loss_L2(pred, target): #L2 loss 함수 \n",
        "  return np.sum(np.square(pred-target)) / pred.shape[0] #배치 크기 (pred.shape[0])와 무관하게 결과를 최적화, 손실을 그 값으로 나눈다. \n",
        "\n",
        "def derivated_loss_L2 (pred, target): #L2 도함수\n",
        "  return 2 * ( pred - target ) #여기에도 배치 크기로 나눌 수 있지만 그렇게 되면 (미분값이 작아져서) 훈련에 실제로 영향을 줄 수 없게 될 수 있다. \n",
        "\n",
        "class SimpleNetwork(object) :\n",
        "  \"\"\" 간단한 완전 연결 신경망\n",
        "  Args :\n",
        "    num_inputs (int) : 입력 벡터 크기 / 입력 값 개수\n",
        "    num_outputs(int) : 출력 벡터 크기\n",
        "    hidden_layers_sizes(list) : 네트워크에 추가될 은닉 계층의 크기를 포함한 리스트 \n",
        "  Attributes : \n",
        "    layers (list) : 이 간단한 네트워크를 구성하는 계층 리스트 \n",
        "  \"\"\"\n",
        "\n",
        "  def __init__(self, num_inputs, num_outputs, hidden_layers_sizes=(64,32), loss_fn = loss_L2, d_loss_fn = derivated_loss_L2):\n",
        "    super().__init__()\n",
        "    #네트워크를 구성하는 계층 리스트를 구성\n",
        "    sizes = [num_inputs, *hidden_layers_sizes, num_outputs]\n",
        "    print(sizes)\n",
        "    self.layers = [\n",
        "                   FullyConnectedLayer(sizes[i], sizes[i+1], sigmoid)\n",
        "                   for i in range(len(sizes)-1) ]    \n",
        "    print(self.layers)\n",
        "    self.loss_fn, self.d_loss_fn = loss_fn, d_loss_fn\n",
        "\n",
        "  def forward(self, x):\n",
        "    \"\"\"입력 벡터 'x'를 계층을 통해 전달 \"\"\"\n",
        "    for layer in self.layers : # from the input layer to the output one\n",
        "      x = layer.forward(x)\n",
        "      #print(x)\n",
        "      \n",
        "    return x \n",
        "\n",
        "  def predict(self, x):\n",
        "    \"\"\" 'x'에 대응하는 출력을 계산하고 출력값이 가장 큰 인덱스를 반환 \"\"\"\n",
        "    estimations = self.forward(x)\n",
        "    best_class = np.argmax(estimations)\n",
        "\n",
        "    return best_class\n",
        "\n",
        "  def evaluate_accuracy(self, x_val, y_val) :\n",
        "    \"\"\" 검증 데이터셋을 사용해 네트워크의 정확도를 평가 \"\"\"\n",
        "    num_corrects = 0\n",
        "    for i in range(len(x_val)) :\n",
        "      if self.predict(x_val[i]) == y_val[i] :\n",
        "        num_corrects += 1\n",
        "    return num_corrects / len(x_val)\n",
        "\n",
        "  def backward(self, dL_dy):\n",
        "    \"\"\" 마지막 계층에서 처음 계층까지 손실미분값을 역전파 \"\"\"\n",
        "    for layer in reversed(self.layers) :\n",
        "      dL_dy = layer.backward(dL_dy)\n",
        "    return dL_dy \n",
        "  \n",
        "  def optimize(self, epsilon):\n",
        "    \"\"\"저장된 경삿값에 따라 매개변수를 최적화\"\"\"\n",
        "    for layer in self.layers:\n",
        "      layer.optimize(epsilon)\n",
        "\n",
        "  def train(self, x_train, y_train, x_val, y_val, batch_size=32, num_epochs=5,learning_rate=5e-3) :\n",
        "    \"\"\" 제공된 데이터셋에서 네트워크를 훈련하고 평가 \"\"\"\n",
        "\n",
        "    "
      ],
      "execution_count": 36,
      "outputs": []
    },
    {
      "cell_type": "markdown",
      "metadata": {
        "id": "7QBuZang6bWW"
      },
      "source": [
        "> Main"
      ]
    },
    {
      "cell_type": "code",
      "metadata": {
        "colab": {
          "base_uri": "https://localhost:8080/"
        },
        "id": "E9jXRlYj6dp7",
        "outputId": "6c97756b-6313-4fa3-f196-b8c8a2ab98f2"
      },
      "source": [
        "# MNIST images 분류를 위한 네트워크, 그 안에 크기가 64, 32인 2개의 은닉 계층이 있음 \n",
        "# SimpleNetwork(784, 10, [64x,32])\n",
        "mnist_classifier = SimpleNetwork(x_train.shape[1], num_classes, [64,32])\n",
        "# ... 그리고 MNIST 데이터셋에서 이 네트워크의 정확도를 평가함 \n",
        "accuracy  = mnist_classifier.evaluate_accuracy(x_test, y_test)\n",
        "print(\"accuracy = {:.2f}%\".format(accuracy * 100))"
      ],
      "execution_count": 37,
      "outputs": [
        {
          "output_type": "stream",
          "text": [
            "[784, 64, 32, 10]\n",
            "[<__main__.FullyConnectedLayer object at 0x7f43f7d3e610>, <__main__.FullyConnectedLayer object at 0x7f43f7c29450>, <__main__.FullyConnectedLayer object at 0x7f43f7c29d50>]\n"
          ],
          "name": "stdout"
        },
        {
          "output_type": "stream",
          "text": [
            "/usr/local/lib/python3.7/dist-packages/ipykernel_launcher.py:4: RuntimeWarning: overflow encountered in exp\n",
            "  after removing the cwd from sys.path.\n"
          ],
          "name": "stderr"
        },
        {
          "output_type": "stream",
          "text": [
            "accuracy = 10.95%\n"
          ],
          "name": "stdout"
        }
      ]
    }
  ]
}